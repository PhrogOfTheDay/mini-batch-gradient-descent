{
 "cells": [
  {
   "cell_type": "code",
   "execution_count": 484,
   "id": "1a1bf035-9e28-4484-8330-1cdcf6db7af3",
   "metadata": {},
   "outputs": [],
   "source": [
    "import numpy as np\n",
    "import pandas as pd\n",
    "from sklearn.preprocessing import MinMaxScaler"
   ]
  },
  {
   "cell_type": "markdown",
   "id": "2d8473c0-dd6f-4bef-9082-a5b71aee6e31",
   "metadata": {},
   "source": [
    "<p>Mini batch gradient algorithm basically combines both batch gradient descent and stochastic gradient descent. This means that it will train the NN based on a batch randomly taken from the overall sample presented in the input, with a new batch selected each epoch</p>"
   ]
  },
  {
   "cell_type": "code",
   "execution_count": 485,
   "id": "4022c833-aff1-41be-b2c4-efae1ec399df",
   "metadata": {},
   "outputs": [
    {
     "data": {
      "text/html": [
       "<div>\n",
       "<style scoped>\n",
       "    .dataframe tbody tr th:only-of-type {\n",
       "        vertical-align: middle;\n",
       "    }\n",
       "\n",
       "    .dataframe tbody tr th {\n",
       "        vertical-align: top;\n",
       "    }\n",
       "\n",
       "    .dataframe thead th {\n",
       "        text-align: right;\n",
       "    }\n",
       "</style>\n",
       "<table border=\"1\" class=\"dataframe\">\n",
       "  <thead>\n",
       "    <tr style=\"text-align: right;\">\n",
       "      <th></th>\n",
       "      <th>area</th>\n",
       "      <th>bedrooms</th>\n",
       "      <th>price</th>\n",
       "    </tr>\n",
       "  </thead>\n",
       "  <tbody>\n",
       "    <tr>\n",
       "      <th>0</th>\n",
       "      <td>1056</td>\n",
       "      <td>2</td>\n",
       "      <td>39.07</td>\n",
       "    </tr>\n",
       "    <tr>\n",
       "      <th>1</th>\n",
       "      <td>2600</td>\n",
       "      <td>4</td>\n",
       "      <td>120.00</td>\n",
       "    </tr>\n",
       "    <tr>\n",
       "      <th>2</th>\n",
       "      <td>1440</td>\n",
       "      <td>3</td>\n",
       "      <td>62.00</td>\n",
       "    </tr>\n",
       "    <tr>\n",
       "      <th>3</th>\n",
       "      <td>1521</td>\n",
       "      <td>3</td>\n",
       "      <td>75.00</td>\n",
       "    </tr>\n",
       "    <tr>\n",
       "      <th>4</th>\n",
       "      <td>1200</td>\n",
       "      <td>2</td>\n",
       "      <td>51.00</td>\n",
       "    </tr>\n",
       "  </tbody>\n",
       "</table>\n",
       "</div>"
      ],
      "text/plain": [
       "   area  bedrooms   price\n",
       "0  1056         2   39.07\n",
       "1  2600         4  120.00\n",
       "2  1440         3   62.00\n",
       "3  1521         3   75.00\n",
       "4  1200         2   51.00"
      ]
     },
     "execution_count": 485,
     "metadata": {},
     "output_type": "execute_result"
    }
   ],
   "source": [
    "df = pd.read_csv('homeprices_banglore.csv')\n",
    "df.head()"
   ]
  },
  {
   "cell_type": "code",
   "execution_count": 486,
   "id": "45442af8-0604-45f4-a18f-ad960ea71759",
   "metadata": {},
   "outputs": [],
   "source": [
    "unaltered_df = df.copy()"
   ]
  },
  {
   "cell_type": "code",
   "execution_count": 487,
   "id": "08abc6c3-b16f-4d74-8d75-b3c8553a4b09",
   "metadata": {},
   "outputs": [],
   "source": [
    "scaler_area = MinMaxScaler()\n",
    "df.area = scaler_area.fit_transform(df[['area']])\n",
    "\n",
    "scaler_price = MinMaxScaler()\n",
    "df.price = scaler_price.fit_transform(df[['price']])"
   ]
  },
  {
   "cell_type": "code",
   "execution_count": 690,
   "id": "45df4cf8-d8c5-4bdd-81ad-211ad6b6907d",
   "metadata": {},
   "outputs": [],
   "source": [
    "class MiniBatchGradientDescentClassifier:\n",
    "    def __init__(self, epochs, batch_size=5, learning_rate = 0.01):\n",
    "  \n",
    "        self.epochs = epochs\n",
    "        self.batch_size = batch_size\n",
    "        self.learning_rate = learning_rate\n",
    "        self.cost = []\n",
    "        self.w = 0\n",
    "        self.b = 0\n",
    "\n",
    "    def MSE(self, y_pred, y_true):\n",
    "        return ((y_true-y_pred)**2/len(y_pred)).to_numpy().sum()\n",
    "    \n",
    "    def calculate_weighted_sum(self, data, w, bias):\n",
    "        return np.dot(data, w) + bias\n",
    "    \n",
    "    def sigmoid(self, x):\n",
    "        return 1/(1+np.exp(-x))\n",
    "    \n",
    "    def predict(self, X_test):\n",
    "        X_test = pd.DataFrame(X_test)\n",
    "        y_pred = []\n",
    "        for index, row in X_test.iterrows():\n",
    "            weighted_sum = calculate_weighted_sum(row, self.w, self.bias)\n",
    "            y_pred.append(sigmoid(weighted_sum))\n",
    "        y_pred_transformed = [scaler_price.inverse_transform(x.reshape(-1,1)) for x in y_pred]\n",
    "        return y_pred_transformed\n",
    "        \n",
    "    def fit(self, X, y_true):\n",
    "        w = np.ones(X.shape[1])\n",
    "        bias = 0\n",
    "        for i in range(self.epochs):\n",
    "            X_sample = X.sample(self.batch_size)\n",
    "            y_true_sample = y.iloc[X_sample.index]\n",
    "\n",
    "            n = len(X_sample)\n",
    "            weighted_sum = calculate_weighted_sum(X_sample, w, bias)\n",
    "            y_pred = sigmoid(weighted_sum)\n",
    "            loss = MSE(y_pred, y_true_sample.T)\n",
    "            self.cost.append(loss)\n",
    "            y_true_sample = y_true_sample.to_numpy().squeeze()\n",
    "            for index, weight in enumerate(w):\n",
    "                w_d = np.dot(X_sample.iloc[:,index].T,(y_pred-y_true_sample))*(2/n)\n",
    "                bias_d = np.sum(y_pred-y_true_sample)*(2/n)\n",
    "                w[index] = w[index] - self.learning_rate*w_d\n",
    "                bias = bias - self.learning_rate*bias_d\n",
    "        self.bias = bias\n",
    "        self.w = w\n"
   ]
  },
  {
   "cell_type": "markdown",
   "id": "c0747575-d7c9-422d-90fe-5c519134badb",
   "metadata": {},
   "source": [
    "<p>Okay so how does this work ? First off i created a class thats supposed to loosely resemble the functions of actual machine learning models. MSE will be used to measure loss as its a continous output (price). Sigmoid will be used as an activation function. The training method will be a mini batch gradient function, with a simple prediction function</p>"
   ]
  },
  {
   "cell_type": "code",
   "execution_count": 691,
   "id": "f7e3c24f-99ec-4aac-a9fd-dd7e810e643a",
   "metadata": {},
   "outputs": [],
   "source": [
    "X = df.drop('price', axis=1)\n",
    "y = df[['price']]"
   ]
  },
  {
   "cell_type": "code",
   "execution_count": 692,
   "id": "47cadcea-f753-4c30-a6dc-1379297087be",
   "metadata": {},
   "outputs": [
    {
     "name": "stdout",
     "output_type": "stream",
     "text": [
      "0.011376358402537172\n",
      "0.21911419780539498\n"
     ]
    }
   ],
   "source": [
    "batch_processor(X, y, 10)"
   ]
  },
  {
   "cell_type": "code",
   "execution_count": 693,
   "id": "ba35fdc1-c4a5-49b5-bbd1-e4638ca74c2e",
   "metadata": {},
   "outputs": [],
   "source": [
    "classifier = MiniBatchGradientDescentClassifier(epochs=100)\n",
    "classifier.fit(X,y)"
   ]
  },
  {
   "cell_type": "code",
   "execution_count": 694,
   "id": "8b6ba781-9eab-4734-a149-0ea702c092a0",
   "metadata": {},
   "outputs": [
    {
     "name": "stdout",
     "output_type": "stream",
     "text": [
      "13    40.0\n",
      "8     50.0\n",
      "Name: price, dtype: float64\n",
      "[array([[79.50241358]]), array([[84.56266318]])]\n"
     ]
    }
   ],
   "source": [
    "x_sample = X.sample(2)\n",
    "output = classifier.predict(x_sample)\n",
    "\n",
    "real_price = scaler_price.inverse_transform(np.array(output).reshape(-1,1))\n",
    "print(unaltered_df.iloc[list(x_sample.index),:].price)\n",
    "print(output)"
   ]
  },
  {
   "cell_type": "code",
   "execution_count": 695,
   "id": "5cac9ed5-fbbf-4611-aa7c-1deb03dc6879",
   "metadata": {},
   "outputs": [
    {
     "data": {
      "text/plain": [
       "<matplotlib.collections.PathCollection at 0x1b77a4897f0>"
      ]
     },
     "execution_count": 695,
     "metadata": {},
     "output_type": "execute_result"
    },
    {
     "data": {
      "image/png": "[encoded data removed]",
      "text/plain": [
       "<Figure size 640x480 with 1 Axes>"
      ]
     },
     "metadata": {},
     "output_type": "display_data"
    }
   ],
   "source": [
    "import matplotlib.pyplot as plt\n",
    "\n",
    "plt.scatter(classifier.cost, [x for x in range(0,100)])"
   ]
  }
 ],
 "metadata": {
  "kernelspec": {
   "display_name": "Python (Data Science Env. with Tensorflow)",
   "language": "python",
   "name": "datasciencewithtensorflow"
  },
  "language_info": {
   "codemirror_mode": {
    "name": "ipython",
    "version": 3
   },
   "file_extension": ".py",
   "mimetype": "text/x-python",
   "name": "python",
   "nbconvert_exporter": "python",
   "pygments_lexer": "ipython3",
   "version": "3.12.11"
  }
 },
 "nbformat": 4,
 "nbformat_minor": 5
}
